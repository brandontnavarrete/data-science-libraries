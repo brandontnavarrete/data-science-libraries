{
 "cells": [
  {
   "cell_type": "markdown",
   "id": "b1bda2d6",
   "metadata": {},
   "source": [
    "# Exercises pt.1"
   ]
  },
  {
   "cell_type": "code",
   "execution_count": 2,
   "id": "6b832ff4",
   "metadata": {},
   "outputs": [],
   "source": [
    "import numpy as np\n",
    "import pandas as pd"
   ]
  },
  {
   "cell_type": "code",
   "execution_count": 3,
   "id": "5bcd5a97",
   "metadata": {},
   "outputs": [],
   "source": [
    "fruit = pd.Series ([\"kiwi\", \"mango\", \"strawberry\", \"pineapple\", \"gala apple\", \"honeycrisp apple\", \"tomato\", \"watermelon\", \"honeydew\", \"kiwi\", \"kiwi\", \"kiwi\", \"mango\", \"blueberry\", \"blackberry\", \"gooseberry\", \"papaya\"])\n",
    "\n"
   ]
  },
  {
   "cell_type": "code",
   "execution_count": 4,
   "id": "0bd0de08",
   "metadata": {},
   "outputs": [
    {
     "name": "stdout",
     "output_type": "stream",
     "text": [
      "0                 kiwi\n",
      "1                mango\n",
      "2           strawberry\n",
      "3            pineapple\n",
      "4           gala apple\n",
      "5     honeycrisp apple\n",
      "6               tomato\n",
      "7           watermelon\n",
      "8             honeydew\n",
      "9                 kiwi\n",
      "10                kiwi\n",
      "11                kiwi\n",
      "12               mango\n",
      "13           blueberry\n",
      "14          blackberry\n",
      "15          gooseberry\n",
      "16              papaya\n",
      "dtype: object\n"
     ]
    }
   ],
   "source": [
    "print(fruit)"
   ]
  },
  {
   "cell_type": "markdown",
   "id": "cc1c0523",
   "metadata": {},
   "source": [
    "# Determine the number of elements in fruits.\n",
    " "
   ]
  },
  {
   "cell_type": "code",
   "execution_count": 6,
   "id": "87647ccc",
   "metadata": {},
   "outputs": [
    {
     "data": {
      "text/plain": [
       "kiwi                4\n",
       "mango               2\n",
       "strawberry          1\n",
       "pineapple           1\n",
       "gala apple          1\n",
       "honeycrisp apple    1\n",
       "tomato              1\n",
       "watermelon          1\n",
       "honeydew            1\n",
       "blueberry           1\n",
       "blackberry          1\n",
       "gooseberry          1\n",
       "papaya              1\n",
       "dtype: int64"
      ]
     },
     "execution_count": 6,
     "metadata": {},
     "output_type": "execute_result"
    }
   ],
   "source": [
    "pd.Series(fruit).value_counts()"
   ]
  },
  {
   "cell_type": "code",
   "execution_count": 313,
   "id": "b9e605df",
   "metadata": {},
   "outputs": [
    {
     "data": {
      "text/plain": [
       "17"
      ]
     },
     "execution_count": 313,
     "metadata": {},
     "output_type": "execute_result"
    }
   ],
   "source": [
    "len(fruit)"
   ]
  },
  {
   "cell_type": "markdown",
   "id": "77998ed2",
   "metadata": {},
   "source": [
    "# Output only the index from fruits."
   ]
  },
  {
   "cell_type": "code",
   "execution_count": 314,
   "id": "108da963",
   "metadata": {},
   "outputs": [
    {
     "data": {
      "text/plain": [
       "[0, 1, 2, 3, 4, 5, 6, 7, 8, 9, 10, 11, 12, 13, 14, 15, 16]"
      ]
     },
     "execution_count": 314,
     "metadata": {},
     "output_type": "execute_result"
    }
   ],
   "source": [
    "list(fruit.index)"
   ]
  },
  {
   "cell_type": "markdown",
   "id": "8ee2310f",
   "metadata": {},
   "source": [
    "# Output only the values from fruits."
   ]
  },
  {
   "cell_type": "code",
   "execution_count": 315,
   "id": "f5ade476",
   "metadata": {},
   "outputs": [
    {
     "data": {
      "text/plain": [
       "['kiwi',\n",
       " 'mango',\n",
       " 'strawberry',\n",
       " 'pineapple',\n",
       " 'gala apple',\n",
       " 'honeycrisp apple',\n",
       " 'tomato',\n",
       " 'watermelon',\n",
       " 'honeydew',\n",
       " 'kiwi',\n",
       " 'kiwi',\n",
       " 'kiwi',\n",
       " 'mango',\n",
       " 'blueberry',\n",
       " 'blackberry',\n",
       " 'gooseberry',\n",
       " 'papaya']"
      ]
     },
     "execution_count": 315,
     "metadata": {},
     "output_type": "execute_result"
    }
   ],
   "source": [
    "list(fruit.values)\n"
   ]
  },
  {
   "cell_type": "markdown",
   "id": "6b7429c8",
   "metadata": {},
   "source": [
    "# Confirm the data type of the values in fruits."
   ]
  },
  {
   "cell_type": "code",
   "execution_count": 15,
   "id": "5f137e1f",
   "metadata": {},
   "outputs": [
    {
     "data": {
      "text/plain": [
       "dtype('O')"
      ]
     },
     "execution_count": 15,
     "metadata": {},
     "output_type": "execute_result"
    }
   ],
   "source": [
    "fruit.dtype"
   ]
  },
  {
   "cell_type": "markdown",
   "id": "5cdcaa1b",
   "metadata": {},
   "source": [
    "# Output only the first five values from fruits. Output the last three values. Output two random values from fruits."
   ]
  },
  {
   "cell_type": "code",
   "execution_count": 16,
   "id": "0fd79c22",
   "metadata": {},
   "outputs": [
    {
     "data": {
      "text/plain": [
       "0          kiwi\n",
       "1         mango\n",
       "2    strawberry\n",
       "3     pineapple\n",
       "4    gala apple\n",
       "dtype: object"
      ]
     },
     "execution_count": 16,
     "metadata": {},
     "output_type": "execute_result"
    }
   ],
   "source": [
    "fruit.head(5)"
   ]
  },
  {
   "cell_type": "code",
   "execution_count": 17,
   "id": "717b6e5d",
   "metadata": {},
   "outputs": [
    {
     "data": {
      "text/plain": [
       "14    blackberry\n",
       "15    gooseberry\n",
       "16        papaya\n",
       "dtype: object"
      ]
     },
     "execution_count": 17,
     "metadata": {},
     "output_type": "execute_result"
    }
   ],
   "source": [
    "fruit.tail(3)"
   ]
  },
  {
   "cell_type": "code",
   "execution_count": 317,
   "id": "5f14e736",
   "metadata": {},
   "outputs": [
    {
     "data": {
      "text/plain": [
       "13    blueberry\n",
       "9          kiwi\n",
       "dtype: object"
      ]
     },
     "execution_count": 317,
     "metadata": {},
     "output_type": "execute_result"
    }
   ],
   "source": [
    "fruit.sample(2)"
   ]
  },
  {
   "cell_type": "markdown",
   "id": "5d6ba512",
   "metadata": {},
   "source": [
    "# Run the .describe() on fruits to see what information it returns when called on a Series with string values."
   ]
  },
  {
   "cell_type": "code",
   "execution_count": 19,
   "id": "dc5fdb08",
   "metadata": {},
   "outputs": [
    {
     "data": {
      "text/plain": [
       "count       17\n",
       "unique      13\n",
       "top       kiwi\n",
       "freq         4\n",
       "dtype: object"
      ]
     },
     "execution_count": 19,
     "metadata": {},
     "output_type": "execute_result"
    }
   ],
   "source": [
    "fruit.describe()"
   ]
  },
  {
   "cell_type": "markdown",
   "id": "8c87ce91",
   "metadata": {},
   "source": [
    "# Run the code necessary to produce only the unique string values from fruits.\n",
    "\n"
   ]
  },
  {
   "cell_type": "code",
   "execution_count": 23,
   "id": "1aebb95e",
   "metadata": {},
   "outputs": [
    {
     "data": {
      "text/plain": [
       "array(['kiwi', 'mango', 'strawberry', 'pineapple', 'gala apple',\n",
       "       'honeycrisp apple', 'tomato', 'watermelon', 'honeydew',\n",
       "       'blueberry', 'blackberry', 'gooseberry', 'papaya'], dtype=object)"
      ]
     },
     "execution_count": 23,
     "metadata": {},
     "output_type": "execute_result"
    }
   ],
   "source": [
    "fruit.unique()"
   ]
  },
  {
   "cell_type": "markdown",
   "id": "7907b80b",
   "metadata": {},
   "source": [
    "# Determine how many times each unique string value occurs in fruits.\n",
    "\n"
   ]
  },
  {
   "cell_type": "code",
   "execution_count": 321,
   "id": "ff0842c1",
   "metadata": {},
   "outputs": [
    {
     "data": {
      "text/plain": [
       "['kiwi',\n",
       " 'mango',\n",
       " 'strawberry',\n",
       " 'pineapple',\n",
       " 'gala apple',\n",
       " 'honeycrisp apple',\n",
       " 'tomato',\n",
       " 'watermelon',\n",
       " 'honeydew',\n",
       " 'blueberry',\n",
       " 'blackberry',\n",
       " 'gooseberry',\n",
       " 'papaya']"
      ]
     },
     "execution_count": 321,
     "metadata": {},
     "output_type": "execute_result"
    }
   ],
   "source": [
    "list(fruit.value_counts().index)"
   ]
  },
  {
   "cell_type": "markdown",
   "id": "70c28b01",
   "metadata": {},
   "source": [
    "# Determine the string value that occurs most frequently in fruits.\n",
    "\n"
   ]
  },
  {
   "cell_type": "code",
   "execution_count": 324,
   "id": "bfaf02d2",
   "metadata": {},
   "outputs": [
    {
     "name": "stdout",
     "output_type": "stream",
     "text": [
      "<bound method NDFrame._add_numeric_operations.<locals>.max of kiwi                4\n",
      "mango               2\n",
      "strawberry          1\n",
      "pineapple           1\n",
      "gala apple          1\n",
      "honeycrisp apple    1\n",
      "tomato              1\n",
      "watermelon          1\n",
      "honeydew            1\n",
      "blueberry           1\n",
      "blackberry          1\n",
      "gooseberry          1\n",
      "papaya              1\n",
      "dtype: int64>\n"
     ]
    }
   ],
   "source": [
    "freq = fruit.value_counts()\n",
    "\n",
    "print(freq.max)"
   ]
  },
  {
   "cell_type": "code",
   "execution_count": null,
   "id": "4e32880e",
   "metadata": {},
   "outputs": [],
   "source": []
  },
  {
   "cell_type": "code",
   "execution_count": null,
   "id": "5f49b9c0",
   "metadata": {},
   "outputs": [],
   "source": []
  },
  {
   "cell_type": "code",
   "execution_count": null,
   "id": "b475c344",
   "metadata": {},
   "outputs": [],
   "source": []
  },
  {
   "cell_type": "markdown",
   "id": "e3705f4e",
   "metadata": {},
   "source": [
    "# Determine the string value that occurs most frequently in fruits."
   ]
  },
  {
   "cell_type": "code",
   "execution_count": 326,
   "id": "ad08e771",
   "metadata": {},
   "outputs": [
    {
     "data": {
      "text/plain": [
       "'kiwi'"
      ]
     },
     "execution_count": 326,
     "metadata": {},
     "output_type": "execute_result"
    }
   ],
   "source": [
    "fruit.value_counts().idxmax()"
   ]
  },
  {
   "cell_type": "markdown",
   "id": "a3d08904",
   "metadata": {},
   "source": [
    "# the least frequent"
   ]
  },
  {
   "cell_type": "code",
   "execution_count": 333,
   "id": "02982f10",
   "metadata": {},
   "outputs": [
    {
     "data": {
      "text/plain": [
       "strawberry          1\n",
       "pineapple           1\n",
       "gala apple          1\n",
       "honeycrisp apple    1\n",
       "tomato              1\n",
       "watermelon          1\n",
       "honeydew            1\n",
       "blueberry           1\n",
       "blackberry          1\n",
       "gooseberry          1\n",
       "papaya              1\n",
       "dtype: int64"
      ]
     },
     "execution_count": 333,
     "metadata": {},
     "output_type": "execute_result"
    }
   ],
   "source": [
    "fruit.value_counts().nsmallest(n=1, keep =\"all\")"
   ]
  },
  {
   "cell_type": "markdown",
   "id": "1999af9f",
   "metadata": {},
   "source": [
    "# Exercises Part II"
   ]
  },
  {
   "cell_type": "markdown",
   "id": "d94b047a",
   "metadata": {},
   "source": [
    "# Capitalize all the string values in fruits."
   ]
  },
  {
   "cell_type": "code",
   "execution_count": 40,
   "id": "41f6ab2f",
   "metadata": {},
   "outputs": [
    {
     "data": {
      "text/plain": [
       "0                 Kiwi\n",
       "1                Mango\n",
       "2           Strawberry\n",
       "3            Pineapple\n",
       "4           Gala apple\n",
       "5     Honeycrisp apple\n",
       "6               Tomato\n",
       "7           Watermelon\n",
       "8             Honeydew\n",
       "9                 Kiwi\n",
       "10                Kiwi\n",
       "11                Kiwi\n",
       "12               Mango\n",
       "13           Blueberry\n",
       "14          Blackberry\n",
       "15          Gooseberry\n",
       "16              Papaya\n",
       "dtype: object"
      ]
     },
     "execution_count": 40,
     "metadata": {},
     "output_type": "execute_result"
    }
   ],
   "source": [
    "fruit.str.capitalize()"
   ]
  },
  {
   "cell_type": "markdown",
   "id": "ce609384",
   "metadata": {},
   "source": [
    "# Count the letter \"a\" in all the string values (use string vectorization)."
   ]
  },
  {
   "cell_type": "code",
   "execution_count": 48,
   "id": "c9a391b5",
   "metadata": {},
   "outputs": [
    {
     "data": {
      "text/plain": [
       "14"
      ]
     },
     "execution_count": 48,
     "metadata": {},
     "output_type": "execute_result"
    }
   ],
   "source": [
    "alpha = fruit.str.count('a')\n",
    "\n",
    "alpha.sum()"
   ]
  },
  {
   "cell_type": "markdown",
   "id": "ceff98a0",
   "metadata": {},
   "source": [
    "# Output the number of vowels in each and every string value."
   ]
  },
  {
   "cell_type": "code",
   "execution_count": 90,
   "id": "8a3b6498",
   "metadata": {},
   "outputs": [
    {
     "data": {
      "text/plain": [
       "False    17\n",
       "dtype: int64"
      ]
     },
     "execution_count": 90,
     "metadata": {},
     "output_type": "execute_result"
    }
   ],
   "source": [
    "vowel = list('aeiouy')\n",
    "fruit.isin(vowel).value_counts()"
   ]
  },
  {
   "cell_type": "code",
   "execution_count": 91,
   "id": "f839a965",
   "metadata": {},
   "outputs": [
    {
     "data": {
      "text/plain": [
       "0                 kiwi\n",
       "1                mango\n",
       "2           strawberry\n",
       "3            pineapple\n",
       "4           gala apple\n",
       "5     honeycrisp apple\n",
       "6               tomato\n",
       "7           watermelon\n",
       "8             honeydew\n",
       "9                 kiwi\n",
       "10                kiwi\n",
       "11                kiwi\n",
       "12               mango\n",
       "13           blueberry\n",
       "14          blackberry\n",
       "15          gooseberry\n",
       "16              papaya\n",
       "dtype: object"
      ]
     },
     "execution_count": 91,
     "metadata": {},
     "output_type": "execute_result"
    }
   ],
   "source": [
    "fruit"
   ]
  },
  {
   "cell_type": "markdown",
   "id": "1c4cc150",
   "metadata": {},
   "source": [
    "# Write the code to get the longest string value from fruits."
   ]
  },
  {
   "cell_type": "code",
   "execution_count": 102,
   "id": "730dc55e",
   "metadata": {},
   "outputs": [
    {
     "data": {
      "text/plain": [
       "0                 kiwi\n",
       "1                mango\n",
       "2           strawberry\n",
       "3            pineapple\n",
       "4           gala apple\n",
       "5     honeycrisp apple\n",
       "6               tomato\n",
       "7           watermelon\n",
       "8             honeydew\n",
       "9                 kiwi\n",
       "10                kiwi\n",
       "11                kiwi\n",
       "12               mango\n",
       "13           blueberry\n",
       "14          blackberry\n",
       "15          gooseberry\n",
       "16              papaya\n",
       "dtype: object"
      ]
     },
     "execution_count": 102,
     "metadata": {},
     "output_type": "execute_result"
    }
   ],
   "source": [
    "fruit"
   ]
  },
  {
   "cell_type": "code",
   "execution_count": 124,
   "id": "e1b114f9",
   "metadata": {},
   "outputs": [
    {
     "data": {
      "text/plain": [
       "16"
      ]
     },
     "execution_count": 124,
     "metadata": {},
     "output_type": "execute_result"
    }
   ],
   "source": [
    "max(fruit.str.len())\n",
    "\n"
   ]
  },
  {
   "cell_type": "markdown",
   "id": "94688d68",
   "metadata": {},
   "source": [
    "# Write the code to get the string values with 5 or more letters in the name."
   ]
  },
  {
   "cell_type": "code",
   "execution_count": 129,
   "id": "bd90d6aa",
   "metadata": {},
   "outputs": [
    {
     "data": {
      "text/plain": [
       "1                mango\n",
       "2           strawberry\n",
       "3            pineapple\n",
       "4           gala apple\n",
       "5     honeycrisp apple\n",
       "6               tomato\n",
       "7           watermelon\n",
       "8             honeydew\n",
       "12               mango\n",
       "13           blueberry\n",
       "14          blackberry\n",
       "15          gooseberry\n",
       "16              papaya\n",
       "dtype: object"
      ]
     },
     "execution_count": 129,
     "metadata": {},
     "output_type": "execute_result"
    }
   ],
   "source": [
    "fruit[fruit.str.len() >= 5]"
   ]
  },
  {
   "cell_type": "markdown",
   "id": "890c9212",
   "metadata": {},
   "source": [
    "# Find the fruit(s) containing the letter \"o\" two or more times."
   ]
  },
  {
   "cell_type": "code",
   "execution_count": 135,
   "id": "ee015e13",
   "metadata": {},
   "outputs": [
    {
     "data": {
      "text/plain": [
       "6         tomato\n",
       "15    gooseberry\n",
       "dtype: object"
      ]
     },
     "execution_count": 135,
     "metadata": {},
     "output_type": "execute_result"
    }
   ],
   "source": [
    "o_times = fruit.str.count('o')\n",
    "\n",
    "fruit[o_times >= 2]\n",
    "\n"
   ]
  },
  {
   "cell_type": "markdown",
   "id": "f2730e1b",
   "metadata": {},
   "source": [
    "# Write the code to get only the string values containing the substring \"berry\"."
   ]
  },
  {
   "cell_type": "code",
   "execution_count": 140,
   "id": "27ddfa18",
   "metadata": {},
   "outputs": [
    {
     "data": {
      "text/plain": [
       "2     strawberry\n",
       "13     blueberry\n",
       "14    blackberry\n",
       "15    gooseberry\n",
       "dtype: object"
      ]
     },
     "execution_count": 140,
     "metadata": {},
     "output_type": "execute_result"
    }
   ],
   "source": [
    "berry = fruit.str.count('berry')\n",
    "\n",
    "fruit[berry == 1]\n"
   ]
  },
  {
   "cell_type": "markdown",
   "id": "b1ca366a",
   "metadata": {},
   "source": [
    "# Write the code to get only the string values containing the substring \"apple\"."
   ]
  },
  {
   "cell_type": "code",
   "execution_count": 141,
   "id": "d8214a00",
   "metadata": {},
   "outputs": [
    {
     "data": {
      "text/plain": [
       "3           pineapple\n",
       "4          gala apple\n",
       "5    honeycrisp apple\n",
       "dtype: object"
      ]
     },
     "execution_count": 141,
     "metadata": {},
     "output_type": "execute_result"
    }
   ],
   "source": [
    "apple = fruit.str.count('apple')\n",
    "\n",
    "fruit[apple == 1]\n"
   ]
  },
  {
   "cell_type": "markdown",
   "id": "4d8f08b6",
   "metadata": {},
   "source": [
    "# Which string value contains the most vowels?"
   ]
  },
  {
   "cell_type": "code",
   "execution_count": 146,
   "id": "7773d376",
   "metadata": {},
   "outputs": [],
   "source": [
    "vowel_list = ('aeiou')\n",
    "oe_times = fruit.str.count(vowel_list)\n",
    "\n"
   ]
  },
  {
   "cell_type": "markdown",
   "id": "a8de4b4e",
   "metadata": {},
   "source": [
    "# Exercises part 3"
   ]
  },
  {
   "cell_type": "code",
   "execution_count": 220,
   "id": "f2ff0a96",
   "metadata": {},
   "outputs": [
    {
     "data": {
      "text/plain": [
       "['h',\n",
       " 'n',\n",
       " 'v',\n",
       " 'i',\n",
       " 'd',\n",
       " 'd',\n",
       " 'u',\n",
       " 'c',\n",
       " 'k',\n",
       " 'k',\n",
       " 'q',\n",
       " 'x',\n",
       " 'w',\n",
       " 'y',\n",
       " 'm',\n",
       " 'b',\n",
       " 'i',\n",
       " 'm',\n",
       " 'k',\n",
       " 'c',\n",
       " 'c',\n",
       " 'e',\n",
       " 'x',\n",
       " 'b',\n",
       " 'k',\n",
       " 'm',\n",
       " 'q',\n",
       " 'y',\n",
       " 'g',\n",
       " 'k',\n",
       " 'x',\n",
       " 'o',\n",
       " 'y',\n",
       " 'n',\n",
       " 'd',\n",
       " 'm',\n",
       " 'c',\n",
       " 'x',\n",
       " 'n',\n",
       " 'w',\n",
       " 'q',\n",
       " 'a',\n",
       " 'r',\n",
       " 'h',\n",
       " 'y',\n",
       " 'f',\n",
       " 'f',\n",
       " 's',\n",
       " 'j',\n",
       " 'p',\n",
       " 's',\n",
       " 'r',\n",
       " 'a',\n",
       " 'b',\n",
       " 't',\n",
       " 'j',\n",
       " 'z',\n",
       " 's',\n",
       " 'y',\n",
       " 'p',\n",
       " 'm',\n",
       " 'z',\n",
       " 'a',\n",
       " 'd',\n",
       " 'f',\n",
       " 'a',\n",
       " 'v',\n",
       " 'y',\n",
       " 'r',\n",
       " 'n',\n",
       " 'n',\n",
       " 'd',\n",
       " 'n',\n",
       " 'd',\n",
       " 'v',\n",
       " 's',\n",
       " 'w',\n",
       " 'r',\n",
       " 'e',\n",
       " 'a',\n",
       " 'u',\n",
       " 'x',\n",
       " 'o',\n",
       " 'v',\n",
       " 'n',\n",
       " 'c',\n",
       " 'x',\n",
       " 't',\n",
       " 'w',\n",
       " 'z',\n",
       " 'p',\n",
       " 'w',\n",
       " 'e',\n",
       " 'j',\n",
       " 'i',\n",
       " 'l',\n",
       " 'z',\n",
       " 'j',\n",
       " 'r',\n",
       " 'm',\n",
       " 'm',\n",
       " 'b',\n",
       " 'b',\n",
       " 'g',\n",
       " 'b',\n",
       " 'y',\n",
       " 'x',\n",
       " 'v',\n",
       " 'j',\n",
       " 't',\n",
       " 'e',\n",
       " 'w',\n",
       " 'q',\n",
       " 't',\n",
       " 'h',\n",
       " 'a',\n",
       " 'f',\n",
       " 'n',\n",
       " 'b',\n",
       " 'k',\n",
       " 'q',\n",
       " 'p',\n",
       " 'l',\n",
       " 'a',\n",
       " 'r',\n",
       " 'o',\n",
       " 'k',\n",
       " 'k',\n",
       " 'y',\n",
       " 'y',\n",
       " 'd',\n",
       " 't',\n",
       " 'u',\n",
       " 'b',\n",
       " 'b',\n",
       " 'm',\n",
       " 'n',\n",
       " 'e',\n",
       " 'x',\n",
       " 'o',\n",
       " 'y',\n",
       " 'p',\n",
       " 'u',\n",
       " 'l',\n",
       " 'z',\n",
       " 'w',\n",
       " 'f',\n",
       " 'h',\n",
       " 'q',\n",
       " 'v',\n",
       " 'c',\n",
       " 'k',\n",
       " 'd',\n",
       " 'p',\n",
       " 'q',\n",
       " 't',\n",
       " 'p',\n",
       " 'o',\n",
       " 'p',\n",
       " 'p',\n",
       " 'z',\n",
       " 'q',\n",
       " 'r',\n",
       " 'm',\n",
       " 'c',\n",
       " 'v',\n",
       " 'h',\n",
       " 'h',\n",
       " 'p',\n",
       " 'w',\n",
       " 'g',\n",
       " 'j',\n",
       " 'w',\n",
       " 'u',\n",
       " 'p',\n",
       " 'g',\n",
       " 'z',\n",
       " 'h',\n",
       " 'i',\n",
       " 'o',\n",
       " 'f',\n",
       " 'o',\n",
       " 'h',\n",
       " 'a',\n",
       " 'w',\n",
       " 'y',\n",
       " 't',\n",
       " 'l',\n",
       " 's',\n",
       " 'i',\n",
       " 'y',\n",
       " 'e',\n",
       " 'c',\n",
       " 'u',\n",
       " 'p',\n",
       " 'r',\n",
       " 'o',\n",
       " 'g',\n",
       " 'u',\n",
       " 'y']"
      ]
     },
     "execution_count": 220,
     "metadata": {},
     "output_type": "execute_result"
    }
   ],
   "source": [
    "alphabet_list = list('hnvidduckkqxwymbimkccexbkmqygkxoyndmcxnwqarhyffsjpsrabtjzsypmzadfavyrnndndvswreauxovncxtwzpwejilzjrmmbbgbyxvjtewqthafnbkqplarokkyydtubbmnexoypulzwfhqvckdpqtpoppzqrmcvhhpwgjwupgzhiofohawytlsiyecuproguy')\n",
    "\n",
    "ala = pd.Series(alphabet_list)\n",
    "\n",
    "alphabet_list"
   ]
  },
  {
   "cell_type": "markdown",
   "id": "60088b6d",
   "metadata": {},
   "source": [
    "# Which letter occurs the most frequently in the letters Series?\n"
   ]
  },
  {
   "cell_type": "code",
   "execution_count": 221,
   "id": "c1348e75",
   "metadata": {},
   "outputs": [
    {
     "data": {
      "text/plain": [
       "'y'"
      ]
     },
     "execution_count": 221,
     "metadata": {},
     "output_type": "execute_result"
    }
   ],
   "source": [
    "ala[max(ala.value_counts())]"
   ]
  },
  {
   "cell_type": "code",
   "execution_count": 222,
   "id": "0169d6ab",
   "metadata": {},
   "outputs": [
    {
     "data": {
      "text/plain": [
       "13"
      ]
     },
     "execution_count": 222,
     "metadata": {},
     "output_type": "execute_result"
    }
   ],
   "source": [
    "max(ala.value_counts())"
   ]
  },
  {
   "cell_type": "markdown",
   "id": "3b882d20",
   "metadata": {},
   "source": [
    "# Which letter occurs the Least frequently?\n"
   ]
  },
  {
   "cell_type": "code",
   "execution_count": 224,
   "id": "0a9b95b6",
   "metadata": {},
   "outputs": [
    {
     "data": {
      "text/plain": [
       "4"
      ]
     },
     "execution_count": 224,
     "metadata": {},
     "output_type": "execute_result"
    }
   ],
   "source": [
    "min(ala.value_counts())\n",
    "######"
   ]
  },
  {
   "cell_type": "markdown",
   "id": "e7df9507",
   "metadata": {},
   "source": [
    "# How many vowels are in the Series?"
   ]
  },
  {
   "cell_type": "code",
   "execution_count": 254,
   "id": "ef15858c",
   "metadata": {
    "scrolled": true
   },
   "outputs": [
    {
     "data": {
      "text/plain": [
       "y    13\n",
       "o     8\n",
       "a     8\n",
       "u     7\n",
       "e     6\n",
       "i     5\n",
       "dtype: int64"
      ]
     },
     "execution_count": 254,
     "metadata": {},
     "output_type": "execute_result"
    }
   ],
   "source": [
    "counter = 0\n",
    "vowels = list('aeiouy')\n",
    "\n",
    "vow = ala[ala.isin(vowels)]\n",
    "\n",
    "vow.value_counts()\n"
   ]
  },
  {
   "cell_type": "markdown",
   "id": "92ddad8a",
   "metadata": {},
   "source": [
    "# How many consonants are in the Series?"
   ]
  },
  {
   "cell_type": "code",
   "execution_count": 266,
   "id": "ca7c4fe9",
   "metadata": {},
   "outputs": [
    {
     "data": {
      "text/plain": [
       "p    12\n",
       "w    10\n",
       "b     9\n",
       "n     9\n",
       "k     9\n",
       "m     9\n",
       "r     8\n",
       "h     8\n",
       "x     8\n",
       "q     8\n",
       "c     8\n",
       "d     8\n",
       "v     7\n",
       "t     7\n",
       "z     7\n",
       "f     6\n",
       "j     6\n",
       "g     5\n",
       "s     5\n",
       "l     4\n",
       "dtype: int64"
      ]
     },
     "execution_count": 266,
     "metadata": {},
     "output_type": "execute_result"
    }
   ],
   "source": [
    "counter = 0\n",
    "vowels = list('aeiouy')\n",
    "\n",
    "cos = ala[~ala.isin(vowels)]\n",
    "\n",
    "cos.value_counts()"
   ]
  },
  {
   "cell_type": "markdown",
   "id": "91dc81f4",
   "metadata": {},
   "source": [
    "# Create a Series that has all of the same letters but uppercased."
   ]
  },
  {
   "cell_type": "code",
   "execution_count": 275,
   "id": "95a8ee07",
   "metadata": {},
   "outputs": [
    {
     "data": {
      "text/plain": [
       "0      H\n",
       "1      N\n",
       "2      V\n",
       "3      I\n",
       "4      D\n",
       "      ..\n",
       "195    R\n",
       "196    O\n",
       "197    G\n",
       "198    U\n",
       "199    Y\n",
       "Length: 200, dtype: object"
      ]
     },
     "execution_count": 275,
     "metadata": {},
     "output_type": "execute_result"
    }
   ],
   "source": [
    "ala.str.upper()"
   ]
  },
  {
   "cell_type": "markdown",
   "id": "31bf308e",
   "metadata": {},
   "source": [
    "# Create a bar plot of the frequencies of the 6 most commonly occuring letters."
   ]
  },
  {
   "cell_type": "code",
   "execution_count": 279,
   "id": "623210f1",
   "metadata": {},
   "outputs": [],
   "source": [
    "mos = ala.value_counts()"
   ]
  },
  {
   "cell_type": "code",
   "execution_count": 285,
   "id": "5f7005de",
   "metadata": {},
   "outputs": [],
   "source": [
    "mos_header = mos.head(6)\n"
   ]
  },
  {
   "cell_type": "code",
   "execution_count": 286,
   "id": "516bcaa6",
   "metadata": {},
   "outputs": [
    {
     "data": {
      "text/plain": [
       "<AxesSubplot:>"
      ]
     },
     "execution_count": 286,
     "metadata": {},
     "output_type": "execute_result"
    },
    {
     "data": {
      "image/png": "[encoded data removed]",
      "text/plain": [
       "<Figure size 640x480 with 1 Axes>"
      ]
     },
     "metadata": {},
     "output_type": "display_data"
    }
   ],
   "source": [
    "mos_header.plot.bar()\n"
   ]
  },
  {
   "cell_type": "code",
   "execution_count": 340,
   "id": "32be49df",
   "metadata": {},
   "outputs": [
    {
     "data": {
      "text/plain": [
       "0       $796,459.41\n",
       "1           $278.60\n",
       "2       $482,571.67\n",
       "3     $4,503,915.98\n",
       "4      $2,121,418.3\n",
       "5      $1,260,813.3\n",
       "6        $87,231.01\n",
       "7     $1,509,175.45\n",
       "8     $4,138,548.00\n",
       "9     $2,848,913.80\n",
       "10      $594,715.39\n",
       "11    $4,789,988.17\n",
       "12     $4,513,644.5\n",
       "13    $3,191,059.97\n",
       "14    $1,758,712.24\n",
       "15    $4,338,283.54\n",
       "16    $4,738,303.38\n",
       "17    $2,791,759.67\n",
       "18      $769,681.94\n",
       "19      $452,650.23\n",
       "dtype: object"
      ]
     },
     "execution_count": 340,
     "metadata": {},
     "output_type": "execute_result"
    }
   ],
   "source": [
    "numbers= pd.Series(['$796,459.41', '$278.60', '$482,571.67', '$4,503,915.98', '$2,121,418.3', '$1,260,813.3', '$87,231.01', '$1,509,175.45', '$4,138,548.00', '$2,848,913.80', '$594,715.39', '$4,789,988.17', '$4,513,644.5', '$3,191,059.97', '$1,758,712.24', '$4,338,283.54', '$4,738,303.38', '$2,791,759.67', '$769,681.94', '$452,650.23'])\n",
    "\n",
    "numbers"
   ]
  },
  {
   "cell_type": "markdown",
   "id": "c1a7ae32",
   "metadata": {},
   "source": [
    "# What is the data type of the numbers Series?"
   ]
  },
  {
   "cell_type": "markdown",
   "id": "f89dc79f",
   "metadata": {},
   "source": [
    "object"
   ]
  },
  {
   "cell_type": "markdown",
   "id": "05b9492c",
   "metadata": {},
   "source": [
    "# How many elements are in the number Series?"
   ]
  },
  {
   "cell_type": "code",
   "execution_count": 300,
   "id": "e95e4f32",
   "metadata": {},
   "outputs": [
    {
     "data": {
      "text/plain": [
       "RangeIndex(start=0, stop=20, step=1)"
      ]
     },
     "execution_count": 300,
     "metadata": {},
     "output_type": "execute_result"
    }
   ],
   "source": [
    "numbers_st.index\n",
    "#19"
   ]
  },
  {
   "cell_type": "markdown",
   "id": "e70382a3",
   "metadata": {},
   "source": [
    "# Perform the necessary manipulations by accessing Series attributes and methods to convert the numbers Series to a numeric data type."
   ]
  },
  {
   "cell_type": "code",
   "execution_count": 343,
   "id": "aa229352",
   "metadata": {},
   "outputs": [
    {
     "name": "stderr",
     "output_type": "stream",
     "text": [
      "/var/folders/d0/5dr5q0n145vcn3_m9dxy1xq80000gn/T/ipykernel_7545/212167285.py:1: FutureWarning: The default value of regex will change from True to False in a future version. In addition, single character regular expressions will *not* be treated as literal strings when regex=True.\n",
      "  numbers = numbers.str.replace('$','')\n"
     ]
    }
   ],
   "source": [
    "numbers = numbers.str.replace('$','')"
   ]
  },
  {
   "cell_type": "code",
   "execution_count": 342,
   "id": "b7ad3b1f",
   "metadata": {},
   "outputs": [],
   "source": [
    "numbers = numbers.str.replace(',','')\n",
    "\n",
    "\n"
   ]
  },
  {
   "cell_type": "markdown",
   "id": "8f8718ef",
   "metadata": {},
   "source": [
    "# the code to discover the maximum value from the Series."
   ]
  },
  {
   "cell_type": "code",
   "execution_count": 352,
   "id": "db809e35",
   "metadata": {},
   "outputs": [],
   "source": [
    "numbers = numbers.astype(float)\n"
   ]
  },
  {
   "cell_type": "code",
   "execution_count": 377,
   "id": "4f964651",
   "metadata": {},
   "outputs": [
    {
     "data": {
      "text/plain": [
       "11    4789988.17\n",
       "dtype: float64"
      ]
     },
     "execution_count": 377,
     "metadata": {},
     "output_type": "execute_result"
    }
   ],
   "source": [
    "numbers.sort_values(ascending = False).head(1)"
   ]
  },
  {
   "cell_type": "markdown",
   "id": "9a17ab43",
   "metadata": {},
   "source": [
    "# Run the code to discover the minimum value from the Series."
   ]
  },
  {
   "cell_type": "code",
   "execution_count": 375,
   "id": "bc56fda7",
   "metadata": {},
   "outputs": [
    {
     "data": {
      "text/plain": [
       "1    278.6\n",
       "dtype: float64"
      ]
     },
     "execution_count": 375,
     "metadata": {},
     "output_type": "execute_result"
    }
   ],
   "source": [
    "numbers.sort_values().head(1)"
   ]
  },
  {
   "cell_type": "markdown",
   "id": "c8a2f31e",
   "metadata": {},
   "source": [
    "# What is the range of the values in the Series?"
   ]
  },
  {
   "cell_type": "code",
   "execution_count": 385,
   "id": "9f984986",
   "metadata": {},
   "outputs": [
    {
     "data": {
      "text/plain": [
       "4789709.57"
      ]
     },
     "execution_count": 385,
     "metadata": {},
     "output_type": "execute_result"
    }
   ],
   "source": [
    "numbers_range = numbers.max()-numbers.min()\n",
    "numbers_range"
   ]
  },
  {
   "cell_type": "markdown",
   "id": "8b29a3a9",
   "metadata": {},
   "source": [
    "# Bin the data into 4 equally sized intervals or bins and output how many values fall into each bin."
   ]
  },
  {
   "cell_type": "code",
   "execution_count": 391,
   "id": "0dc98d10",
   "metadata": {},
   "outputs": [
    {
     "data": {
      "text/plain": [
       "0      796459.41\n",
       "1         278.60\n",
       "2      482571.67\n",
       "3     4503915.98\n",
       "4     2121418.30\n",
       "5     1260813.30\n",
       "6       87231.01\n",
       "7     1509175.45\n",
       "8     4138548.00\n",
       "9     2848913.80\n",
       "10     594715.39\n",
       "11    4789988.17\n",
       "12    4513644.50\n",
       "13    3191059.97\n",
       "14    1758712.24\n",
       "15    4338283.54\n",
       "16    4738303.38\n",
       "17    2791759.67\n",
       "18     769681.94\n",
       "19     452650.23\n",
       "dtype: float64"
      ]
     },
     "execution_count": 391,
     "metadata": {},
     "output_type": "execute_result"
    }
   ],
   "source": [
    "numbers\n"
   ]
  },
  {
   "cell_type": "code",
   "execution_count": 397,
   "id": "d0505a61",
   "metadata": {},
   "outputs": [],
   "source": [
    "check = pd.cut(numbers,4)\n",
    "\n",
    "######"
   ]
  },
  {
   "cell_type": "markdown",
   "id": "9b49060e",
   "metadata": {},
   "source": [
    "# Plot the binned data in a meaningful way. Be sure to include a title and axis labels."
   ]
  },
  {
   "cell_type": "code",
   "execution_count": 401,
   "id": "173ece36",
   "metadata": {},
   "outputs": [
    {
     "data": {
      "text/plain": [
       "0     60\n",
       "1     86\n",
       "2     75\n",
       "3     62\n",
       "4     93\n",
       "5     71\n",
       "6     60\n",
       "7     83\n",
       "8     95\n",
       "9     78\n",
       "10    65\n",
       "11    72\n",
       "12    69\n",
       "13    81\n",
       "14    96\n",
       "15    80\n",
       "16    85\n",
       "17    92\n",
       "18    82\n",
       "19    78\n",
       "dtype: int64"
      ]
     },
     "execution_count": 401,
     "metadata": {},
     "output_type": "execute_result"
    }
   ],
   "source": [
    "exam_scores = pd.Series([60, 86, 75, 62, 93, 71, 60, 83, 95, 78, 65, 72, 69, 81, 96, 80, 85, 92, 82, 78])\n",
    "\n",
    "exam_scores\n"
   ]
  },
  {
   "cell_type": "markdown",
   "id": "69d3332c",
   "metadata": {},
   "source": [
    " # How many elements are in the exam_scores Series?"
   ]
  },
  {
   "cell_type": "code",
   "execution_count": 402,
   "id": "fac5cc94",
   "metadata": {},
   "outputs": [
    {
     "data": {
      "text/plain": [
       "20"
      ]
     },
     "execution_count": 402,
     "metadata": {},
     "output_type": "execute_result"
    }
   ],
   "source": [
    "len(exam_scores)"
   ]
  },
  {
   "cell_type": "markdown",
   "id": "908a13f0",
   "metadata": {},
   "source": [
    "# Run the code to discover the minimum, the maximum, the mean, and the median scores for the exam_scores Series."
   ]
  },
  {
   "cell_type": "code",
   "execution_count": 432,
   "id": "f4b76a5e",
   "metadata": {},
   "outputs": [
    {
     "data": {
      "text/plain": [
       "count    20.000000\n",
       "mean     78.150000\n",
       "std      11.352139\n",
       "min      60.000000\n",
       "25%      70.500000\n",
       "50%      79.000000\n",
       "75%      85.250000\n",
       "max      96.000000\n",
       "dtype: float64"
      ]
     },
     "execution_count": 432,
     "metadata": {},
     "output_type": "execute_result"
    }
   ],
   "source": [
    "exam_atts = [exam_scores.mean(),exam_scores.min(),exam_scores.max(),exam_scores.median()]\n",
    "\n",
    "exam_atts = pd.Series(exam_atts)\n",
    "exam_scores.describe()\n"
   ]
  },
  {
   "cell_type": "code",
   "execution_count": null,
   "id": "d9396702",
   "metadata": {},
   "outputs": [],
   "source": [
    "exam_atts.plot.bar()\n",
    "# a = mean\n",
    "# b = min\n",
    "# c = max\n",
    "# d = median"
   ]
  },
  {
   "cell_type": "markdown",
   "id": "abef6811",
   "metadata": {},
   "source": [
    "# Write the code necessary to implement a curve for your exam_grades Series and save this as curved_grades. Add the necessary points to the highest grade to make it 100, and add the same number of points to every other score in the Series as well."
   ]
  },
  {
   "cell_type": "code",
   "execution_count": 464,
   "id": "ec719c69",
   "metadata": {},
   "outputs": [],
   "source": [
    "\n"
   ]
  },
  {
   "cell_type": "code",
   "execution_count": 434,
   "id": "81e84963",
   "metadata": {},
   "outputs": [],
   "source": [
    "curved_grades = exam_scores + 4"
   ]
  },
  {
   "cell_type": "code",
   "execution_count": 465,
   "id": "58ce917a",
   "metadata": {},
   "outputs": [
    {
     "data": {
      "text/plain": [
       "19    100\n",
       "18     99\n",
       "17     97\n",
       "16     96\n",
       "15     90\n",
       "14     89\n",
       "13     87\n",
       "12     86\n",
       "11     85\n",
       "10     84\n",
       "9      82\n",
       "8      82\n",
       "7      79\n",
       "6      76\n",
       "5      75\n",
       "4      73\n",
       "3      69\n",
       "2      66\n",
       "1      64\n",
       "0      64\n",
       "dtype: int64"
      ]
     },
     "execution_count": 465,
     "metadata": {},
     "output_type": "execute_result"
    }
   ],
   "source": [
    "curved_grades.sort_values(ascending = False)"
   ]
  },
  {
   "cell_type": "markdown",
   "id": "1c1cba81",
   "metadata": {},
   "source": [
    "# Use a method to convert each of the numeric values in the curved_grades Series into a categorical value of letter grades. For example, 86 should be a 'B' and 95 should be an 'A'. Save this as a Series named letter_grades."
   ]
  },
  {
   "cell_type": "code",
   "execution_count": 480,
   "id": "42e57ae5",
   "metadata": {},
   "outputs": [
    {
     "name": "stdout",
     "output_type": "stream",
     "text": [
      "19    A\n",
      "18    A\n",
      "17    A\n",
      "16    A\n",
      "15    A\n",
      "11    B\n",
      "14    B\n",
      "13    B\n",
      "12    B\n",
      "10    B\n",
      "9     B\n",
      "8     B\n",
      "7     C\n",
      "6     C\n",
      "5     C\n",
      "4     C\n",
      "1     D\n",
      "3     D\n",
      "2     D\n",
      "0     D\n",
      "dtype: category\n",
      "Categories (4, object): ['D' < 'C' < 'B' < 'A']\n"
     ]
    }
   ],
   "source": [
    "letter_grades = pd.cut(curved_grades, bins =[60,69,79,89,100],labels =['D','C','B','A'])\n",
    "\n",
    "\n",
    "print(letter_grades.sort_values(ascending= False))"
   ]
  },
  {
   "cell_type": "markdown",
   "id": "2506c739",
   "metadata": {},
   "source": [
    "# Plot your new categorical letter_grades Series in a meaninful way and include a title and axis labels.\n",
    "  \n"
   ]
  },
  {
   "cell_type": "code",
   "execution_count": 493,
   "id": "85210548",
   "metadata": {},
   "outputs": [
    {
     "data": {
      "text/plain": [
       "<AxesSubplot:>"
      ]
     },
     "execution_count": 493,
     "metadata": {},
     "output_type": "execute_result"
    },
    {
     "data": {
      "image/png": "[encoded data removed]",
      "text/plain": [
       "<Figure size 640x480 with 1 Axes>"
      ]
     },
     "metadata": {},
     "output_type": "display_data"
    }
   ],
   "source": [
    "letter_grades.value_counts().sort_index(ascending = False).plot.bar()\n"
   ]
  },
  {
   "cell_type": "code",
   "execution_count": null,
   "id": "126bd3e1",
   "metadata": {},
   "outputs": [],
   "source": []
  }
 ],
 "metadata": {
  "kernelspec": {
   "display_name": "Python 3 (ipykernel)",
   "language": "python",
   "name": "python3"
  },
  "language_info": {
   "codemirror_mode": {
    "name": "ipython",
    "version": 3
   },
   "file_extension": ".py",
   "mimetype": "text/x-python",
   "name": "python",
   "nbconvert_exporter": "python",
   "pygments_lexer": "ipython3",
   "version": "3.9.13"
  }
 },
 "nbformat": 4,
 "nbformat_minor": 5
}
